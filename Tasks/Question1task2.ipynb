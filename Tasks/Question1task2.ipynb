{
 "cells": [
  {
   "cell_type": "code",
   "execution_count": 1,
   "metadata": {},
   "outputs": [],
   "source": [
    "def mean(numbers):\n",
    "    total = sum(numbers)\n",
    "    count = len(numbers)\n",
    "    return total/count"
   ]
  },
  {
   "cell_type": "code",
   "execution_count": 2,
   "metadata": {},
   "outputs": [],
   "source": [
    "def median(numbers):\n",
    "    numbers.sort()\n",
    "    n = len(numbers)\n",
    "    mid = n// 2\n",
    "    if n%2==0:\n",
    "        return (numbers[mid - 1]+ numbers [mid]/ 2)\n",
    "    else: \n",
    "        return numbers[mid]"
   ]
  },
  {
   "cell_type": "code",
   "execution_count": 4,
   "metadata": {},
   "outputs": [],
   "source": [
    "def mode(numbers):\n",
    "    n = len(numbers)\n",
    "    numbers.sort()\n",
    "    mode = numbers[0]\n",
    "    max_count=0\n",
    "    for i in range(n):\n",
    "        count=0\n",
    "        for j in range (n):\n",
    "            if numbers[j] == numbers[i]:\n",
    "                count +=1\n",
    "                if count > max_count:\n",
    "                    max_count = count \n",
    "                    mode = numbers[i]\n",
    "    return mode"
   ]
  },
  {
   "cell_type": "code",
   "execution_count": 5,
   "metadata": {},
   "outputs": [
    {
     "name": "stdout",
     "output_type": "stream",
     "text": [
      "Mean: 3.6666666666666665\n",
      "median: 3\n",
      "mode: 1\n"
     ]
    }
   ],
   "source": [
    "numbers =[ 1,1,4,1,2,3,6,7,8]\n",
    "print(\"Mean:\", mean(numbers))\n",
    "print(\"median:\", median(numbers))\n",
    "print(\"mode:\", mode(numbers))"
   ]
  },
  {
   "cell_type": "code",
   "execution_count": 6,
   "metadata": {},
   "outputs": [
    {
     "name": "stdout",
     "output_type": "stream",
     "text": [
      "Mean: 5.2\n",
      "median: 6.5\n",
      "mode: 3\n"
     ]
    }
   ],
   "source": [
    "numbers =[3,5,7,9,7,3,3,8,3,4]\n",
    "print(\"Mean:\", mean(numbers))\n",
    "print(\"median:\", median(numbers))\n",
    "print(\"mode:\", mode(numbers))"
   ]
  },
  {
   "cell_type": "code",
   "execution_count": null,
   "metadata": {},
   "outputs": [],
   "source": []
  }
 ],
 "metadata": {
  "kernelspec": {
   "display_name": "Python 3",
   "language": "python",
   "name": "python3"
  },
  "language_info": {
   "codemirror_mode": {
    "name": "ipython",
    "version": 3
   },
   "file_extension": ".py",
   "mimetype": "text/x-python",
   "name": "python",
   "nbconvert_exporter": "python",
   "pygments_lexer": "ipython3",
   "version": "3.7.6"
  }
 },
 "nbformat": 4,
 "nbformat_minor": 4
}
