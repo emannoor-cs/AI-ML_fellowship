{
 "cells": [
  {
   "cell_type": "code",
   "execution_count": 4,
   "metadata": {},
   "outputs": [],
   "source": [
    "def cosine_sim(A,B):\n",
    "    dot_prod=0\n",
    "    for i in range(len(A)):\n",
    "        dot_prod += A[i]*B[i]\n",
    "        mag_A =0\n",
    "        for i in range(len(A)):\n",
    "            mag_A+= A[i] **2\n",
    "            mag_A = mag_A **0.5\n",
    "            \n",
    "        mag_B =0\n",
    "        for i in range(len(B)):\n",
    "            mag_B+= B[i] **2\n",
    "            mag_B = mag_B ** 0.5\n",
    "           \n",
    "        return  dot_prod / (mag_A * mag_B)    \n"
   ]
  },
  {
   "cell_type": "code",
   "execution_count": 5,
   "metadata": {},
   "outputs": [
    {
     "name": "stdout",
     "output_type": "stream",
     "text": [
      "COSINE SIMILARITY: 0.16517495368093252\n"
     ]
    }
   ],
   "source": [
    "A = [1,2,3]\n",
    "B = [3,4,5]\n",
    "print(\"COSINE SIMILARITY:\",cosine_sim(A,B))"
   ]
  },
  {
   "cell_type": "code",
   "execution_count": null,
   "metadata": {},
   "outputs": [],
   "source": []
  }
 ],
 "metadata": {
  "kernelspec": {
   "display_name": "Python 3",
   "language": "python",
   "name": "python3"
  },
  "language_info": {
   "codemirror_mode": {
    "name": "ipython",
    "version": 3
   },
   "file_extension": ".py",
   "mimetype": "text/x-python",
   "name": "python",
   "nbconvert_exporter": "python",
   "pygments_lexer": "ipython3",
   "version": "3.7.6"
  }
 },
 "nbformat": 4,
 "nbformat_minor": 4
}
