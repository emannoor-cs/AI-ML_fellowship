{
 "cells": [
  {
   "cell_type": "code",
   "execution_count": 1,
   "metadata": {},
   "outputs": [],
   "source": [
    "def expo(value):\n",
    "    result = 1\n",
    "    power = 1\n",
    "    \n",
    "    for i in range(1, 20):\n",
    "        power *= value / i  \n",
    "        result += power\n",
    "    return result\n",
    "\n",
    "def softmax(values):\n",
    "    exp_values = [expo(v) for v in values]\n",
    "    sum_exp = sum(exp_values)\n",
    "    return [v / sum_exp for v in exp_values]"
   ]
  },
  {
   "cell_type": "code",
   "execution_count": 2,
   "metadata": {},
   "outputs": [
    {
     "name": "stdout",
     "output_type": "stream",
     "text": [
      "Softmax: [0.6590011388859535, 0.24243297070472428, 0.09856589040932233]\n"
     ]
    }
   ],
   "source": [
    "values = [2.0, 1.0, 0.1]\n",
    "result_softmax = softmax(values)\n",
    "print(\"Softmax:\", result_softmax)"
   ]
  },
  {
   "cell_type": "code",
   "execution_count": null,
   "metadata": {},
   "outputs": [],
   "source": []
  }
 ],
 "metadata": {
  "kernelspec": {
   "display_name": "Python 3",
   "language": "python",
   "name": "python3"
  },
  "language_info": {
   "codemirror_mode": {
    "name": "ipython",
    "version": 3
   },
   "file_extension": ".py",
   "mimetype": "text/x-python",
   "name": "python",
   "nbconvert_exporter": "python",
   "pygments_lexer": "ipython3",
   "version": "3.7.6"
  }
 },
 "nbformat": 4,
 "nbformat_minor": 4
}
