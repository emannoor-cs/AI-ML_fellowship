{
 "cells": [
  {
   "cell_type": "code",
   "execution_count": 2,
   "metadata": {},
   "outputs": [],
   "source": [
    "#RSE is square root of mse \n",
    "def mse(a,p):\n",
    "    n = len(a)\n",
    "    err_sum = sum((a[i] -p[i] )** 2 for i in range(n))\n",
    "    return err_sum / n\n",
    "#Computation for RSE\n",
    "def rse(a,p):\n",
    "    return ( mse(a,p) ** 0.5 )"
   ]
  },
  {
   "cell_type": "code",
   "execution_count": 3,
   "metadata": {},
   "outputs": [
    {
     "name": "stdout",
     "output_type": "stream",
     "text": [
      "RSE is 0.6123724356957945\n"
     ]
    }
   ],
   "source": [
    "a = [3,-0.5,2,7]\n",
    "p = [2.5 , 0.0,2,8]\n",
    "print(\"RSE is\", rse(a,p))"
   ]
  },
  {
   "cell_type": "code",
   "execution_count": 4,
   "metadata": {},
   "outputs": [
    {
     "name": "stdout",
     "output_type": "stream",
     "text": [
      "RSE is 2.0976176963403033\n"
     ]
    }
   ],
   "source": [
    "a = [10,20,30,40,50]\n",
    "p = [12,18,33,39,48]\n",
    "print(\"RSE is\", rse(a,p))"
   ]
  },
  {
   "cell_type": "code",
   "execution_count": null,
   "metadata": {},
   "outputs": [],
   "source": []
  }
 ],
 "metadata": {
  "kernelspec": {
   "display_name": "Python 3",
   "language": "python",
   "name": "python3"
  },
  "language_info": {
   "codemirror_mode": {
    "name": "ipython",
    "version": 3
   },
   "file_extension": ".py",
   "mimetype": "text/x-python",
   "name": "python",
   "nbconvert_exporter": "python",
   "pygments_lexer": "ipython3",
   "version": "3.7.6"
  }
 },
 "nbformat": 4,
 "nbformat_minor": 4
}
