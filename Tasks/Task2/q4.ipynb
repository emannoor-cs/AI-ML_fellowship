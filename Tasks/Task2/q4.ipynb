{
 "cells": [
  {
   "cell_type": "code",
   "execution_count": 6,
   "metadata": {},
   "outputs": [],
   "source": [
    "def linear_reg(X,Y):\n",
    "    n=len(X)\n",
    "    sum_x = sum(X)\n",
    "    sum_y = sum(Y)\n",
    "    sum_xy = sum(X[i] * Y[i] for i in range(n))\n",
    "    sum_x2 = sum(X[i] ** 2 for i in range(n))\n",
    "\n",
    "    numerator_m = (n * sum_xy) - (sum_x * sum_y)\n",
    "    denominator_m = (n * sum_x2) - (sum_x ** 2)\n",
    "    \n",
    "    if denominator_m == 0:\n",
    "        return None \n",
    "    \n",
    "    m = numerator_m / denominator_m\n",
    "\n",
    "    b = (sum_y - m * sum_x) / n\n",
    "\n",
    "    return m, b"
   ]
  },
  {
   "cell_type": "code",
   "execution_count": 7,
   "metadata": {},
   "outputs": [
    {
     "name": "stdout",
     "output_type": "stream",
     "text": [
      "REGRESSION (0.6, 2.2)\n"
     ]
    }
   ],
   "source": [
    "X = [1, 2, 3, 4, 5]\n",
    "Y = [2, 4, 5, 4, 5]\n",
    "print(\"REGRESSION\",linear_reg(X,Y))"
   ]
  },
  {
   "cell_type": "code",
   "execution_count": 8,
   "metadata": {},
   "outputs": [
    {
     "name": "stdout",
     "output_type": "stream",
     "text": [
      "Slope: 0.6 Intercept: 2.2\n"
     ]
    }
   ],
   "source": [
    "X = [1, 2, 3, 4, 5]\n",
    "Y = [2, 4, 5, 4, 5]\n",
    "slope, intercept = linear_reg(X_values, Y_values)\n",
    "print(\"Slope:\", slope, \"Intercept:\", intercept)"
   ]
  },
  {
   "cell_type": "code",
   "execution_count": null,
   "metadata": {},
   "outputs": [],
   "source": []
  }
 ],
 "metadata": {
  "kernelspec": {
   "display_name": "Python 3",
   "language": "python",
   "name": "python3"
  },
  "language_info": {
   "codemirror_mode": {
    "name": "ipython",
    "version": 3
   },
   "file_extension": ".py",
   "mimetype": "text/x-python",
   "name": "python",
   "nbconvert_exporter": "python",
   "pygments_lexer": "ipython3",
   "version": "3.7.6"
  }
 },
 "nbformat": 4,
 "nbformat_minor": 4
}
