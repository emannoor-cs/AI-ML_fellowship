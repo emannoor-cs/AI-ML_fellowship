{
 "cells": [
  {
   "cell_type": "code",
   "execution_count": 1,
   "metadata": {},
   "outputs": [],
   "source": [
    "def student_data_manager():\n",
    "    student_list = [] \n",
    "    for i in range(3):\n",
    "        print(f\"\\nEnter details for Student {i+1}:\")\n",
    "        name = input(\"Enter name: \").strip()\n",
    "        \n",
    "        while True:\n",
    "            try:\n",
    "                age = int(input(\"Enter age: \").strip())\n",
    "                break\n",
    "            except ValueError:\n",
    "                print(\"Invalid input! Please enter a valid integer for age.\")\n",
    "        \n",
    "        while True:\n",
    "            try:\n",
    "                grade = float(input(\"Enter grade: \").strip()) \n",
    "                break\n",
    "            except ValueError:\n",
    "                print(\"Invalid input! Please enter a valid number for grade.\")\n",
    "\n",
    "        student_list.append((name, age, grade))\n",
    "\n",
    "    student_dict = {name: (age, grade) for name, age, grade in student_list}\n",
    "\n",
    "    print(\"\\nStudent Data Dictionary:\")\n",
    "    print(\"=\" * 40)\n",
    "    for name, details in student_dict.items():\n",
    "        print(f\"Name: {name}, Age: {details[0]}, Grade: {details[1]:.2f}\")\n",
    "    print(\"=\" * 40)\n",
    "\n",
    "\n"
   ]
  },
  {
   "cell_type": "code",
   "execution_count": 2,
   "metadata": {},
   "outputs": [
    {
     "name": "stdout",
     "output_type": "stream",
     "text": [
      "\n",
      "Enter details for Student 1:\n",
      "Enter name: eman\n",
      "Enter age: 18\n",
      "Enter grade: A\n",
      "Invalid input! Please enter a valid number for grade.\n",
      "Enter grade: 12\n",
      "\n",
      "Enter details for Student 2:\n",
      "Enter name: asifa\n",
      "Enter age: 19\n",
      "Enter grade: 78\n",
      "\n",
      "Enter details for Student 3:\n",
      "Enter name: maryam\n",
      "Enter age: 21\n",
      "Enter grade: 54\n",
      "\n",
      "Student Data Dictionary:\n",
      "========================================\n",
      "Name: eman, Age: 18, Grade: 12.00\n",
      "Name: asifa, Age: 19, Grade: 78.00\n",
      "Name: maryam, Age: 21, Grade: 54.00\n",
      "========================================\n"
     ]
    }
   ],
   "source": [
    "student_data_manager()"
   ]
  },
  {
   "cell_type": "code",
   "execution_count": null,
   "metadata": {},
   "outputs": [],
   "source": []
  }
 ],
 "metadata": {
  "kernelspec": {
   "display_name": "Python 3",
   "language": "python",
   "name": "python3"
  },
  "language_info": {
   "codemirror_mode": {
    "name": "ipython",
    "version": 3
   },
   "file_extension": ".py",
   "mimetype": "text/x-python",
   "name": "python",
   "nbconvert_exporter": "python",
   "pygments_lexer": "ipython3",
   "version": "3.7.6"
  }
 },
 "nbformat": 4,
 "nbformat_minor": 4
}
