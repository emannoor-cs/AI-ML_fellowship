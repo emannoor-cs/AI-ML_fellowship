{
 "cells": [
  {
   "cell_type": "code",
   "execution_count": 4,
   "metadata": {},
   "outputs": [
    {
     "name": "stdout",
     "output_type": "stream",
     "text": [
      "Enter 5 numbers:\n",
      "Enter number 1: 12\n",
      "Enter number 2: 34\n",
      "Enter number 3: 12\n",
      "Enter number 4: 22\n",
      "Enter number 5: 34\n",
      "\n",
      " Results:\n",
      " Maximum Value: 34.0\n",
      " Minimum Value: 12.0\n"
     ]
    }
   ],
   "source": [
    "def find_max_min(numbers_list):\n",
    "    maximum = max(numbers_list) \n",
    "    minimum = min(numbers_list)  \n",
    "    return maximum, minimum\n",
    "\n",
    "numbers = []\n",
    "\n",
    "print(\"Enter 5 numbers:\")\n",
    "\n",
    "for i in range(5):\n",
    "    while True: \n",
    "        try:\n",
    "            num = float(input(f\"Enter number {i+1}: \").strip()) \n",
    "            numbers.append(num)\n",
    "            break  \n",
    "        except ValueError:\n",
    "            print(\" Invalid input please enter a valid number.\")\n",
    "\n",
    "max_value, min_value = find_max_min(numbers)\n",
    "\n",
    "print(\"\\n Results:\")\n",
    "print(f\" Maximum Value: {max_value}\")\n",
    "print(f\" Minimum Value: {min_value}\")\n"
   ]
  },
  {
   "cell_type": "code",
   "execution_count": 2,
   "metadata": {},
   "outputs": [],
   "source": []
  },
  {
   "cell_type": "code",
   "execution_count": null,
   "metadata": {},
   "outputs": [],
   "source": []
  }
 ],
 "metadata": {
  "kernelspec": {
   "display_name": "Python 3",
   "language": "python",
   "name": "python3"
  },
  "language_info": {
   "codemirror_mode": {
    "name": "ipython",
    "version": 3
   },
   "file_extension": ".py",
   "mimetype": "text/x-python",
   "name": "python",
   "nbconvert_exporter": "python",
   "pygments_lexer": "ipython3",
   "version": "3.7.6"
  }
 },
 "nbformat": 4,
 "nbformat_minor": 4
}
