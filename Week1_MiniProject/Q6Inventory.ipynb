{
 "cells": [
  {
   "cell_type": "code",
   "execution_count": 2,
   "metadata": {},
   "outputs": [
    {
     "name": "stdout",
     "output_type": "stream",
     "text": [
      "\n",
      "========================================\n",
      "INITIAL INVENTORY\n",
      "========================================\n",
      "Apples: 10\n",
      "Bananas: 15\n",
      "Oranges: 8\n",
      "Milk: 5\n",
      "Bread: 7\n",
      "Item 'Grapes' not found in inventory.\n",
      "\n",
      "========================================\n",
      "UPDATED INVENTORY\n",
      "========================================\n",
      "Apples: 7\n",
      "Bananas: 15\n",
      "Oranges: 8\n",
      "Milk: 10\n",
      "Bread: 7\n",
      "========================================\n"
     ]
    }
   ],
   "source": [
    "def update_inventory(inventory_dict, item, quantity):\n",
    "    inventory_dict[item] = max(0, inventory_dict.get(item, 0) + quantity)\n",
    "    return inventory_dict\n",
    "\n",
    "inventory = {\n",
    "    \"Apples\": 10,\n",
    "    \"Bananas\": 15,\n",
    "    \"Oranges\": 8,\n",
    "    \"Milk\": 5,\n",
    "    \"Bread\": 7\n",
    "}\n",
    "\n",
    "print(\"\\n\" + \"=\" * 40)\n",
    "print(\"INITIAL INVENTORY\")\n",
    "print(\"=\" * 40)\n",
    "for item, qty in inventory.items():\n",
    "    print(f\"{item}: {qty}\")\n",
    "\n",
    "updates = [(\"Apples\", -3), (\"Milk\", 5), (\"Grapes\", 2)]\n",
    "\n",
    "for item_name, change_qty in updates:\n",
    "    if item_name in inventory:\n",
    "        inventory = update_inventory(inventory, item_name, change_qty)\n",
    "    else:\n",
    "        print(f\"Item '{item_name}' not found in inventory.\")\n",
    "\n",
    "print(\"\\n\" + \"=\" * 40)\n",
    "print(\"UPDATED INVENTORY\")\n",
    "print(\"=\" * 40)\n",
    "for item, qty in inventory.items():\n",
    "    print(f\"{item}: {qty}\")\n",
    "print(\"=\" * 40)\n"
   ]
  },
  {
   "cell_type": "code",
   "execution_count": null,
   "metadata": {},
   "outputs": [],
   "source": []
  }
 ],
 "metadata": {
  "kernelspec": {
   "display_name": "Python 3",
   "language": "python",
   "name": "python3"
  },
  "language_info": {
   "codemirror_mode": {
    "name": "ipython",
    "version": 3
   },
   "file_extension": ".py",
   "mimetype": "text/x-python",
   "name": "python",
   "nbconvert_exporter": "python",
   "pygments_lexer": "ipython3",
   "version": "3.7.6"
  }
 },
 "nbformat": 4,
 "nbformat_minor": 4
}
