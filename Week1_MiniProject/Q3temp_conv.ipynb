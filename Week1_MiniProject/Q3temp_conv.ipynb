{
 "cells": [
  {
   "cell_type": "code",
   "execution_count": 1,
   "metadata": {},
   "outputs": [
    {
     "name": "stdout",
     "output_type": "stream",
     "text": [
      "Enter the temperature value: 36.6\n",
      "Enter the scale (C for Celsius, F for Fahrenheit): F\n",
      "36.6°F is equal to 2.56°C\n"
     ]
    }
   ],
   "source": [
    "def convert_temperature(temp, scale):\n",
    "\n",
    "    if scale.upper() == \"C\":\n",
    "        # Convert from Celsius to Fahrenheit\n",
    "        converted = (temp * 9/5) + 32\n",
    "        print(f\"{temp}°C is equal to {converted:.2f}°F\")\n",
    "        return converted\n",
    "    \n",
    "    elif scale.upper() == \"F\":\n",
    "        # Convert from Fahrenheit to Celsius\n",
    "        converted = (temp - 32) * 5/9\n",
    "        print(f\"{temp}°F is equal to {converted:.2f}°C\")\n",
    "        return converted\n",
    "    \n",
    "    else:\n",
    "        print(\"Invalid scale. Please use 'C' for Celsius or 'F' for Fahrenheit.\")\n",
    "        return None\n",
    "\n",
    "# Test the function\n",
    "try:\n",
    "    temperature = float(input(\"Enter the temperature value: \"))\n",
    "    scale = input(\"Enter the scale (C for Celsius, F for Fahrenheit): \")\n",
    "    \n",
    "    convert_temperature(temperature, scale)\n",
    "except ValueError:\n",
    "    print(\"Invalid input. Please enter a valid number for temperature.\")"
   ]
  },
  {
   "cell_type": "code",
   "execution_count": null,
   "metadata": {},
   "outputs": [],
   "source": []
  }
 ],
 "metadata": {
  "kernelspec": {
   "display_name": "Python 3",
   "language": "python",
   "name": "python3"
  },
  "language_info": {
   "codemirror_mode": {
    "name": "ipython",
    "version": 3
   },
   "file_extension": ".py",
   "mimetype": "text/x-python",
   "name": "python",
   "nbconvert_exporter": "python",
   "pygments_lexer": "ipython3",
   "version": "3.7.6"
  }
 },
 "nbformat": 4,
 "nbformat_minor": 4
}
