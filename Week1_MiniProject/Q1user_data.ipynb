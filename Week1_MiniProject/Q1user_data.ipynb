{
 "cells": [
  {
   "cell_type": "code",
   "execution_count": 1,
   "metadata": {},
   "outputs": [
    {
     "name": "stdout",
     "output_type": "stream",
     "text": [
      "Welcome to the User Data Collector!\n",
      "Please enter your name: Eman Noor\n",
      "Please enter your age: 19\n",
      "Please enter your email: ema.noo.or@gmail.com\n",
      "Please enter your favorite number: 14\n",
      "\n",
      "========================================\n",
      "              USER PROFILE              \n",
      "========================================\n",
      "Name           : Eman Noor\n",
      "Age            : 19\n",
      "Email          : ema.noo.or@gmail.com\n",
      "Favorite_number: 14.0\n",
      "========================================\n",
      "Thank you for providing your information.\n"
     ]
    }
   ],
   "source": [
    "import re\n",
    "def validate_email(email):\n",
    "    email_pattern = r'^[a-zA-Z0-9_.+-]+@[a-zA-Z0-9-]+\\.[a-zA-Z0-9-.]+$'\n",
    "    return bool(re.match(email_pattern, email))\n",
    "\n",
    "def get_valid_input(prompt, validation_func=None, error_message=\"Invalid input. Please try again.\", convert_func=str):\n",
    "     while True:\n",
    "        try:\n",
    "            user_input = convert_func(input(prompt))\n",
    "            if validation_func and not validation_func(user_input):\n",
    "                print(error_message)\n",
    "                continue\n",
    "            return user_input\n",
    "        except ValueError:\n",
    "            print(\"Please enter a valid value.\")\n",
    "\n",
    "def collect_user_data():\n",
    "   \n",
    "    user_data = {\n",
    "        'name': get_valid_input(\"Please enter your name: \"),\n",
    "        'age': get_valid_input(\"Please enter your age: \", lambda x: 0 <= x <= 120, \"Age must be between 0 and 120.\", int),\n",
    "        'email': get_valid_input(\"Please enter your email: \", validate_email, \"Invalid email format. Please enter a valid email.\"),\n",
    "        'favorite_number': get_valid_input(\"Please enter your favorite number: \", None, \"Invalid number. Try again.\", float)\n",
    "    }\n",
    "    \n",
    "    return user_data\n",
    "\n",
    "def display_user_data(user_data):\n",
    "    print(\"\\n\" + \"=\" * 40)\n",
    "    print(f\"{'USER PROFILE':^40}\")\n",
    "    print(\"=\" * 40)\n",
    "    for key, value in user_data.items():\n",
    "        print(f\"{key.capitalize():<15}: {value}\")\n",
    "    print(\"=\" * 40)\n",
    "\n",
    "def main():\n",
    "    print(\"Welcome to the User Data Collector!\")\n",
    "    user_data = collect_user_data()\n",
    "    display_user_data(user_data)\n",
    "    print(\"Thank you for providing your information.\")\n",
    "\n",
    "if __name__ == \"__main__\":\n",
    "    main()\n"
   ]
  },
  {
   "cell_type": "code",
   "execution_count": null,
   "metadata": {},
   "outputs": [],
   "source": []
  }
 ],
 "metadata": {
  "kernelspec": {
   "display_name": "Python 3",
   "language": "python",
   "name": "python3"
  },
  "language_info": {
   "codemirror_mode": {
    "name": "ipython",
    "version": 3
   },
   "file_extension": ".py",
   "mimetype": "text/x-python",
   "name": "python",
   "nbconvert_exporter": "python",
   "pygments_lexer": "ipython3",
   "version": "3.7.6"
  }
 },
 "nbformat": 4,
 "nbformat_minor": 4
}
